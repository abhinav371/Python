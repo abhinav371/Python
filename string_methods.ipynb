{
  "nbformat": 4,
  "nbformat_minor": 0,
  "metadata": {
    "colab": {
      "name": "string methods.ipynb",
      "provenance": [],
      "authorship_tag": "ABX9TyPevj4NJ9nR71O7X1p9JdLX",
      "include_colab_link": true
    },
    "kernelspec": {
      "name": "python3",
      "display_name": "Python 3"
    },
    "language_info": {
      "name": "python"
    }
  },
  "cells": [
    {
      "cell_type": "markdown",
      "metadata": {
        "id": "view-in-github",
        "colab_type": "text"
      },
      "source": [
        "<a href=\"https://colab.research.google.com/github/abhinav371/Python/blob/Module-1/string_methods.ipynb\" target=\"_parent\"><img src=\"https://colab.research.google.com/assets/colab-badge.svg\" alt=\"Open In Colab\"/></a>"
      ]
    },
    {
      "cell_type": "code",
      "execution_count": null,
      "metadata": {
        "colab": {
          "base_uri": "https://localhost:8080/"
        },
        "id": "qIohU61Jfcno",
        "outputId": "79daab11-cd0d-4f74-dc16-df56f4ed3b51"
      },
      "outputs": [
        {
          "output_type": "stream",
          "name": "stdout",
          "text": [
            "Violence violence violence {i} dont like violence i avoid but violence likes me {i} cant12 avoid73\n",
            "violence violence violence {i} dont like violence i avoid but violence likes me {i} cant12 avoid73\n",
            "oviolence violence violence {i} dont like violence i avoid but violence likes me {i} cant12 avoid73o\n",
            "1\n",
            "False\n",
            "31\n",
            "violence violence violence abhi dont like violence i avoid but violence likes me abhi cant12 avoid73\n",
            "False\n",
            "False\n"
          ]
        }
      ],
      "source": [
        "a=\"violence violence violence {i} dont like violence i avoid but violence likes me {i} cant12 avoid73\"\n",
        "print(a.capitalize())\n",
        "print(a.casefold())\n",
        "print(a.center(100,\"o\"))\n",
        "print(a.count(\"v\",5,10))\n",
        "print(a.endswith(\"d\"))\n",
        "print(a.find(\"dont\"))\n",
        "print(a.format(i=\"abhi\"))\n",
        "print(a.isalnum())\n",
        "print(a.isalpha())"
      ]
    },
    {
      "cell_type": "code",
      "source": [
        "a=\"kush420\"\n",
        "print(a.isalnum())\n",
        "b=\"KuAL\"\n",
        "print(b.isalpha())\n",
        "c=\"violence\"\n",
        "print(c.isascii())"
      ],
      "metadata": {
        "colab": {
          "base_uri": "https://localhost:8080/"
        },
        "id": "AyWEBOQbgtgv",
        "outputId": "75689639-1bc0-4868-ae73-00b102a9d37d"
      },
      "execution_count": null,
      "outputs": [
        {
          "output_type": "stream",
          "name": "stdout",
          "text": [
            "True\n",
            "True\n",
            "True\n"
          ]
        }
      ]
    }
  ]
}
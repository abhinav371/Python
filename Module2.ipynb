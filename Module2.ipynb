{
  "nbformat": 4,
  "nbformat_minor": 0,
  "metadata": {
    "colab": {
      "name": "Module2.ipynb",
      "provenance": [],
      "authorship_tag": "ABX9TyO22/rInL0iLP06QnLO3aAV",
      "include_colab_link": true
    },
    "kernelspec": {
      "name": "python3",
      "display_name": "Python 3"
    },
    "language_info": {
      "name": "python"
    }
  },
  "cells": [
    {
      "cell_type": "markdown",
      "metadata": {
        "id": "view-in-github",
        "colab_type": "text"
      },
      "source": [
        "<a href=\"https://colab.research.google.com/github/abhinav371/Python/blob/Module-2/Module2.ipynb\" target=\"_parent\"><img src=\"https://colab.research.google.com/assets/colab-badge.svg\" alt=\"Open In Colab\"/></a>"
      ]
    },
    {
      "cell_type": "code",
      "execution_count": null,
      "metadata": {
        "colab": {
          "base_uri": "https://localhost:8080/"
        },
        "id": "PpKRvTynHrMS",
        "outputId": "88d0593d-8bb9-403b-f9b8-f58f453a5cbe"
      },
      "outputs": [
        {
          "output_type": "stream",
          "name": "stdout",
          "text": [
            "n : 4\n",
            "r : 3\n",
            "ncr :  4.0\n"
          ]
        }
      ],
      "source": [
        "#Create a function which accepts two inputs from the user and compute nCr\n",
        "import math\n",
        "a=int(input('n : '))\n",
        "b=int(input('r : '))\n",
        "n=math.factorial(a)\n",
        "m=math.factorial(b)\n",
        "p=math.factorial(a-b)\n",
        "d=n/(m*p)\n",
        "print('ncr : ',d)"
      ]
    },
    {
      "cell_type": "code",
      "source": [
        "#Program to print a specified list after removing the 0th, 4th and 5th elements.\n",
        "#Sample List : ['Red', 'Green', 'White', 'Black', 'Pink', 'Yellow']\n",
        "#Expected Output : ['Green', 'White', 'Black']\n",
        "a=['Red', 'Green', 'White', 'Black', 'Pink', 'Yellow']\n",
        "a.pop(0)\n",
        "a.pop(3)\n",
        "a.pop(3)\n",
        "print(a)"
      ],
      "metadata": {
        "colab": {
          "base_uri": "https://localhost:8080/"
        },
        "id": "URf1ESTbIqAI",
        "outputId": "f97e3874-e02a-4e6e-ee70-c1c233c09181"
      },
      "execution_count": null,
      "outputs": [
        {
          "output_type": "stream",
          "name": "stdout",
          "text": [
            "['Green', 'White', 'Black']\n"
          ]
        }
      ]
    },
    {
      "cell_type": "code",
      "source": [
        "#Program to get the difference between the two lists.\n",
        "list1=['red','white','blue']\n",
        "list2=['white','blue','yellow']\n",
        "d=list(set(list1)-set(list2))\n",
        "print()"
      ],
      "metadata": {
        "colab": {
          "base_uri": "https://localhost:8080/"
        },
        "id": "K7pY6U9EFQ0q",
        "outputId": "02241150-43eb-4391-a2c4-55eb2d3bedb2"
      },
      "execution_count": null,
      "outputs": [
        {
          "output_type": "stream",
          "name": "stdout",
          "text": [
            "\n"
          ]
        }
      ]
    },
    {
      "cell_type": "code",
      "source": [
        "#Program to find the second smallest number and second largest number in a list.\n",
        "l=[4,87,96,69,90,64,67]\n",
        "l.sort()\n",
        "print(l)\n",
        "a=l[1] \n",
        "print('second smallest number : ',a)\n",
        "b=l[-2]\n",
        "print('second largest number : ',b)"
      ],
      "metadata": {
        "id": "3fMJ-Y0-FjD5",
        "colab": {
          "base_uri": "https://localhost:8080/"
        },
        "outputId": "d7b1fbf8-a807-4289-a74f-c45ab147befe"
      },
      "execution_count": null,
      "outputs": [
        {
          "output_type": "stream",
          "name": "stdout",
          "text": [
            "[4, 64, 67, 69, 87, 90, 96]\n",
            "second smallest number :  64\n",
            "second largest number :  90\n"
          ]
        }
      ]
    },
    {
      "cell_type": "code",
      "source": [
        "#Given a list of numbers of list, write a Python program to create a list of tuples having first element as the number and second element as the square of the number.\n",
        "a=[1,3,5,6,7]\n",
        "b=[]\n",
        "for i in range(len(a)):\n",
        "  c=[]\n",
        "  c.append(a[i])\n",
        "  d=a[i]*a[i]\n",
        "  c.append(d)\n",
        "  e=tuple(c)\n",
        "  b.append(c)\n",
        "print(b)"
      ],
      "metadata": {
        "colab": {
          "base_uri": "https://localhost:8080/"
        },
        "id": "Ey4teCa_wnmH",
        "outputId": "27ba99a9-aa06-49c6-9513-91ab4e6df75a"
      },
      "execution_count": null,
      "outputs": [
        {
          "output_type": "stream",
          "name": "stdout",
          "text": [
            "[[1, 1], [3, 9], [5, 25], [6, 36], [7, 49]]\n"
          ]
        }
      ]
    },
    {
      "cell_type": "code",
      "source": [
        "#Program to generate and print a dictionary that contains a number (between 1 and n) in the form (x, x*x).\n",
        "#Sample Input: (n=5) :\n",
        "#Expected Output : {1: 1, 2: 4, 3: 9, 4: 16, 5: 25}\n",
        "n=int(input('num : '))\n",
        "a={}\n",
        "for i in range(1,n+1):\n",
        "  k=i\n",
        "  v=i*i\n",
        "  a.update({k:v})\n",
        "print(a)"
      ],
      "metadata": {
        "colab": {
          "base_uri": "https://localhost:8080/"
        },
        "id": "ZwnTl44K5hXv",
        "outputId": "7a214897-b88d-44e9-f36d-19a4542e118a"
      },
      "execution_count": null,
      "outputs": [
        {
          "output_type": "stream",
          "name": "stdout",
          "text": [
            "num : 4\n",
            "{1: 1, 2: 4, 3: 9, 4: 16}\n"
          ]
        }
      ]
    },
    {
      "cell_type": "code",
      "source": [
        "#Program to remove a key from a dictionary\n",
        "tdict = {\n",
        "  \"brand\": \"Ford\",\n",
        "  \"model\": \"Mustang\",\n",
        "  \"year\": 1964\n",
        "}\n",
        "x=tdict.keys()\n",
        "print(\"Keys of this dictionary are : \" , end= \"\")\n",
        "print(x)\n",
        "x=input(\"Enter key to be removed \")\n",
        "tdict = {\n",
        "  \"brand\": \"Ford\",\n",
        "  \"model\": \"Mustang\",\n",
        "  \"year\": 1964\n",
        "}\n",
        "tdict.pop(x)\n",
        "tdict"
      ],
      "metadata": {
        "colab": {
          "base_uri": "https://localhost:8080/"
        },
        "id": "MYJJAg6_WpEE",
        "outputId": "83609ce2-7c64-4569-de95-8f6251d624c4"
      },
      "execution_count": null,
      "outputs": [
        {
          "name": "stdout",
          "output_type": "stream",
          "text": [
            "Keys of this dictionary are : dict_keys(['brand', 'model', 'year'])\n",
            "Enter key to be removed brand\n"
          ]
        },
        {
          "output_type": "execute_result",
          "data": {
            "text/plain": [
              "{'model': 'Mustang', 'year': 1964}"
            ]
          },
          "metadata": {},
          "execution_count": 8
        }
      ]
    },
    {
      "cell_type": "code",
      "source": [
        "dic={}\n",
        "n=int(input(\"Enter number of keys to e entered \"))\n",
        "for i in range (n) :\n",
        "  k=input(\"enter key :\")\n",
        "  v=int(input(\"enter value :\"))\n",
        "  dic.update({k:v})\n",
        "x= list(dic.values())\n",
        "x.sort()\n",
        "print(x[0],x[len(x)-1])"
      ],
      "metadata": {
        "colab": {
          "base_uri": "https://localhost:8080/"
        },
        "id": "ImdcFr4BXVMG",
        "outputId": "8ee4f434-57d5-4450-9f29-a2a220708b4a"
      },
      "execution_count": null,
      "outputs": [
        {
          "output_type": "stream",
          "name": "stdout",
          "text": [
            "Enter number of keys to e entered 3\n",
            "enter key :gh\n",
            "enter value :4\n",
            "enter key :g\n",
            "enter value :7\n",
            "enter key :u\n",
            "enter value :3\n",
            "3 7\n"
          ]
        }
      ]
    },
    {
      "cell_type": "code",
      "source": [
        "#Program to perform operations on string using unicodes ,splitting of string,accessing elements of string using locations\n",
        "a=input(\"Enter your string \")\n",
        "x=a.split()\n",
        "n=int(input(\"Enter your index number \"))\n",
        "y=a[n]\n",
        "print(y)"
      ],
      "metadata": {
        "colab": {
          "base_uri": "https://localhost:8080/"
        },
        "id": "FiSJTlGPYAOK",
        "outputId": "0d283ddc-9cd1-4a00-a814-1bff67d54fd9"
      },
      "execution_count": null,
      "outputs": [
        {
          "output_type": "stream",
          "name": "stdout",
          "text": [
            "Enter your string abhi\n",
            "Enter your index number 2\n",
            "h\n"
          ]
        }
      ]
    },
    {
      "cell_type": "code",
      "source": [
        "#Program for Counting occurrence of a certain element in a string\n",
        "a=input(\"Enter your string \")\n",
        "n=input(\"Enter element to be counted \")\n",
        "f=a.count(n)\n",
        "print(f\"{n} is repeated {f} times\")"
      ],
      "metadata": {
        "colab": {
          "base_uri": "https://localhost:8080/"
        },
        "id": "GL9eNCssYXAS",
        "outputId": "383e0110-23bc-4051-8da3-10f61e07f9ba"
      },
      "execution_count": null,
      "outputs": [
        {
          "output_type": "stream",
          "name": "stdout",
          "text": [
            "Enter your string abhinav\n",
            "Enter element to be counted a\n",
            "a is repeated 2 times\n"
          ]
        }
      ]
    },
    {
      "cell_type": "code",
      "source": [
        "#Program for replacing one substring by another\n",
        "a=input(\"Enter your string \")\n",
        "n=input(\"Enter substring to be replaced \")\n",
        "m=input(\"Enter replacing substring \")\n",
        "x=a.replace(n,m)\n",
        "print(f\"replaced string is {x}\")"
      ],
      "metadata": {
        "colab": {
          "base_uri": "https://localhost:8080/"
        },
        "id": "i1u8pmU1Yoce",
        "outputId": "48084fef-35dc-4044-b1a2-05bcdc0ae70f"
      },
      "execution_count": null,
      "outputs": [
        {
          "output_type": "stream",
          "name": "stdout",
          "text": [
            "Enter your string abhi\n",
            "Enter substring to be replaced abhinav\n",
            "Enter replacing substring abhinav\n",
            "replaced string is abhi\n"
          ]
        }
      ]
    },
    {
      "cell_type": "code",
      "source": [
        "#Program to Acronym generator for any user input (ex-input is Random memory access then output should be RMA).Example - Random number (RN)\n",
        "a=list(map(str, input().rstrip().split()))\n",
        "d=[]\n",
        "for i in range(len(a)) :\n",
        "  b=a[i]\n",
        "  c=b[0]\n",
        "  c=c.upper()\n",
        "  d.append(c)\n",
        "for i in range (len(d)) :\n",
        "  print(d[i] , end =\"\")"
      ],
      "metadata": {
        "colab": {
          "base_uri": "https://localhost:8080/"
        },
        "id": "cCcdtn-xY6av",
        "outputId": "2ee3ddfa-0ab0-4624-94a0-612b509ef19c"
      },
      "execution_count": null,
      "outputs": [
        {
          "output_type": "stream",
          "name": "stdout",
          "text": [
            "abhi\n",
            "A"
          ]
        }
      ]
    },
    {
      "cell_type": "code",
      "source": [
        "#Program to count the number of strings where the string length is 2 or more and the first and last character are same from a given list of strings\n",
        "a=list(map(str, input().rstrip().rsplit()))\n",
        "for i in a :\n",
        "  s=0\n",
        "  l=len(i)\n",
        "if i[0]==i[l-1] and l>2:\n",
        "  s+=1\n",
        "print(s)"
      ],
      "metadata": {
        "colab": {
          "base_uri": "https://localhost:8080/"
        },
        "id": "aNoDcpRMZJn2",
        "outputId": "3e4c2b93-ce55-474b-f2fb-096e01e1396c"
      },
      "execution_count": null,
      "outputs": [
        {
          "output_type": "stream",
          "name": "stdout",
          "text": [
            "fv\n",
            "0\n"
          ]
        }
      ]
    },
    {
      "cell_type": "code",
      "source": [
        "#Recursive function to compute GCD of 2 numbers\n",
        "def gcd(a,b) :\n",
        "  k=a if (a<b) else b\n",
        "while True:\n",
        "  if(a%k==0 and b%k==0):\n",
        "    break\n",
        "  k-=1\n",
        "  return k\n",
        "a=int(input(\"Enter 1st number \"))\n",
        "b=int(input(\"Enter 2nd number \"))\n",
        "g=gcd(a,b)\n",
        "print(g)\n"
      ],
      "metadata": {
        "id": "_hpQEUEOZfO4"
      },
      "execution_count": null,
      "outputs": []
    },
    {
      "cell_type": "code",
      "source": [
        "#Recursive function to generate Fibonacci series\n",
        "def fibb(n):\n",
        "  if n<=1 :\n",
        "    return 1\n",
        "  else :\n",
        "    return fibb(n-1)+fibb(n-2)\n",
        "n=int(input(\"Enter no. of terms \"))\n",
        "print(\"Fibonacci series is -->\")\n",
        "for i in range (n) :\n",
        "  print(fibb(i))\n"
      ],
      "metadata": {
        "colab": {
          "base_uri": "https://localhost:8080/"
        },
        "id": "tr75IBV0Ztoq",
        "outputId": "d05f15e9-b46a-4197-fb9a-33843721bba5"
      },
      "execution_count": null,
      "outputs": [
        {
          "output_type": "stream",
          "name": "stdout",
          "text": [
            "Enter no. of terms 2\n",
            "Fibonacci series is -->\n",
            "1\n",
            "1\n"
          ]
        }
      ]
    },
    {
      "cell_type": "code",
      "source": [
        "#Recursive function to compute GCD of 2 numbers\n",
        "def gcd(a,b) :\n",
        "  k=a if (a<b) else b\n",
        "  while True:\n",
        "    if(a%k==0 and b%k==0):\n",
        "      break\n",
        "      k-=1\n",
        "      return k\n",
        "a=int(input(\"Enter 1st number \"))\n",
        "b=int(input(\"Enter 2nd number \"))\n",
        "g=gcd(a,b)\n",
        "print(g)"
      ],
      "metadata": {
        "colab": {
          "base_uri": "https://localhost:8080/"
        },
        "id": "YYSt4nhaa9K1",
        "outputId": "9b5ea84f-09bf-4414-acb9-290cf9b32aca"
      },
      "execution_count": null,
      "outputs": [
        {
          "output_type": "stream",
          "name": "stdout",
          "text": [
            "Enter 1st number 1\n",
            "Enter 2nd number 5\n",
            "None\n"
          ]
        }
      ]
    }
  ]
}
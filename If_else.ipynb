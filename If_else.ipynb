{
  "nbformat": 4,
  "nbformat_minor": 0,
  "metadata": {
    "colab": {
      "name": "If else.ipynb",
      "provenance": [],
      "authorship_tag": "ABX9TyNbKybi0gPWVj3DzaBWQ6HX",
      "include_colab_link": true
    },
    "kernelspec": {
      "name": "python3",
      "display_name": "Python 3"
    },
    "language_info": {
      "name": "python"
    }
  },
  "cells": [
    {
      "cell_type": "markdown",
      "metadata": {
        "id": "view-in-github",
        "colab_type": "text"
      },
      "source": [
        "<a href=\"https://colab.research.google.com/github/abhinav371/Python/blob/Module-1/If_else.ipynb\" target=\"_parent\"><img src=\"https://colab.research.google.com/assets/colab-badge.svg\" alt=\"Open In Colab\"/></a>"
      ]
    },
    {
      "cell_type": "code",
      "execution_count": null,
      "metadata": {
        "colab": {
          "base_uri": "https://localhost:8080/"
        },
        "id": "sHtQ9jUEQ-Wh",
        "outputId": "3a0dbfb3-98fa-4bcf-935c-c274d30bdf4f"
      },
      "outputs": [
        {
          "output_type": "stream",
          "name": "stdout",
          "text": [
            "b is greater than a\n"
          ]
        }
      ],
      "source": [
        "a=33\n",
        "b=200\n",
        "if b>a:\n",
        "  print(\"b is greater than a\")"
      ]
    },
    {
      "cell_type": "code",
      "source": [
        "a=33\n",
        "b=45\n",
        "if b>a:\n",
        "  print(\"b is greater than a\")\n",
        "elif b<a:\n",
        "  print(\"a is greater than b\")\n",
        "else:\n",
        "  print(\"a is equal to b\")"
      ],
      "metadata": {
        "id": "KwJ1UOkSOiqn",
        "colab": {
          "base_uri": "https://localhost:8080/"
        },
        "outputId": "a427e963-dd77-4b87-c775-666c96a82456"
      },
      "execution_count": null,
      "outputs": [
        {
          "output_type": "stream",
          "name": "stdout",
          "text": [
            "b is greater than a\n"
          ]
        }
      ]
    },
    {
      "cell_type": "code",
      "source": [
        "a=926\n",
        "b=926\n",
        "print('A') if a>b else print('B') if a<b else print('c')"
      ],
      "metadata": {
        "colab": {
          "base_uri": "https://localhost:8080/"
        },
        "id": "1Adi9yf_aJ9z",
        "outputId": "8c05ff8e-268e-4100-d908-bc87d494535d"
      },
      "execution_count": null,
      "outputs": [
        {
          "output_type": "stream",
          "name": "stdout",
          "text": [
            "c\n"
          ]
        }
      ]
    },
    {
      "cell_type": "code",
      "source": [
        "a=29\n",
        "b=45\n",
        "c=69\n",
        "if a<b and b<c:\n",
        "  print(True)\n",
        "else:\n",
        "  print(False)"
      ],
      "metadata": {
        "colab": {
          "base_uri": "https://localhost:8080/"
        },
        "id": "9aVU74E4bfcC",
        "outputId": "ad2f72cc-cb35-4d95-d299-bc9568b91d6a"
      },
      "execution_count": null,
      "outputs": [
        {
          "output_type": "stream",
          "name": "stdout",
          "text": [
            "True\n"
          ]
        }
      ]
    },
    {
      "cell_type": "code",
      "source": [
        "a=56\n",
        "b=67\n",
        "c=89\n",
        "if a<b or b>c:\n",
        "  print(\"one of the cond is true\")\n"
      ],
      "metadata": {
        "colab": {
          "base_uri": "https://localhost:8080/"
        },
        "id": "Libak0jfbuzO",
        "outputId": "75772fe8-6353-4386-ca2d-fc1aa1d12514"
      },
      "execution_count": null,
      "outputs": [
        {
          "output_type": "stream",
          "name": "stdout",
          "text": [
            "one of the cond is true\n"
          ]
        }
      ]
    },
    {
      "cell_type": "code",
      "source": [
        "x=46\n",
        "if x>10:\n",
        "  print(\"above ten\")\n",
        "if x>20:\n",
        "  print(\"above twenty\")\n",
        "else:\n",
        "  print(\"above thirty and forty\")"
      ],
      "metadata": {
        "colab": {
          "base_uri": "https://localhost:8080/"
        },
        "id": "uvMCXYXwcHG4",
        "outputId": "9e54928f-0446-4020-d6ee-93dcdcccf3a3"
      },
      "execution_count": null,
      "outputs": [
        {
          "output_type": "stream",
          "name": "stdout",
          "text": [
            "above ten\n",
            "above twenty\n"
          ]
        }
      ]
    },
    {
      "cell_type": "code",
      "source": [
        "#use the pass statement to avoid getting an error.\n",
        "a=56\n",
        "b=90\n",
        "if b>a:\n",
        "  pass"
      ],
      "metadata": {
        "id": "eD3eCcd9ciTU"
      },
      "execution_count": null,
      "outputs": []
    }
  ]
}
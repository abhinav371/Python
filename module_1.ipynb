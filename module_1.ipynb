{
  "nbformat": 4,
  "nbformat_minor": 0,
  "metadata": {
    "colab": {
      "name": "module 1.ipynb",
      "provenance": [],
      "authorship_tag": "ABX9TyO3R5TtKOEAMJq1oP5lDTrQ",
      "include_colab_link": true
    },
    "kernelspec": {
      "name": "python3",
      "display_name": "Python 3"
    },
    "language_info": {
      "name": "python"
    }
  },
  "cells": [
    {
      "cell_type": "markdown",
      "metadata": {
        "id": "view-in-github",
        "colab_type": "text"
      },
      "source": [
        "<a href=\"https://colab.research.google.com/github/abhinav371/Python/blob/Module-1/module_1.ipynb\" target=\"_parent\"><img src=\"https://colab.research.google.com/assets/colab-badge.svg\" alt=\"Open In Colab\"/></a>"
      ]
    },
    {
      "cell_type": "code",
      "source": [
        "#Accept input from user and store it in variable and print the value\n",
        "a=int(input('enter a number : '))\n",
        "print(a)"
      ],
      "metadata": {
        "id": "mPqRacRpW_4Q",
        "colab": {
          "base_uri": "https://localhost:8080/"
        },
        "outputId": "0e01ded9-7cfe-4ecf-ecf7-9284ded9cd58"
      },
      "execution_count": null,
      "outputs": [
        {
          "output_type": "stream",
          "name": "stdout",
          "text": [
            "enter a number : 7\n",
            "7\n"
          ]
        }
      ]
    },
    {
      "cell_type": "code",
      "source": [
        "#Use of print statements and use of (.format )for printing different data types\n",
        "a=int(3)\n",
        "b=float(3)\n",
        "c=bool(3)\n",
        "d=str(3)\n",
        "print(a)\n",
        "print(b)\n",
        "print(c)\n",
        "print(d)"
      ],
      "metadata": {
        "id": "mKcgo9Znn0EQ",
        "colab": {
          "base_uri": "https://localhost:8080/"
        },
        "outputId": "a9c140b8-daa7-419e-8b44-7cbc473f0eab"
      },
      "execution_count": null,
      "outputs": [
        {
          "output_type": "stream",
          "name": "stdout",
          "text": [
            "3\n",
            "3.0\n",
            "True\n",
            "3\n"
          ]
        }
      ]
    },
    {
      "cell_type": "code",
      "source": [
        "#Take 2 numbers as user input and add, multiply, divide, subtract, remainder and print the output (Same operations on floating point input as well)\n",
        "a=float(4)\n",
        "b=float(6)\n",
        "add=a+b\n",
        "print(add)\n",
        "sub=b-a\n",
        "print(sub)\n",
        "multiply=a*b\n",
        "print(multiply)\n",
        "divide=b/a\n",
        "print(divide)\n",
        "rem=b%a\n",
        "print(rem)"
      ],
      "metadata": {
        "id": "EQUUWjVDn36m",
        "colab": {
          "base_uri": "https://localhost:8080/"
        },
        "outputId": "7d56d36a-9685-4d98-ba51-f3919858dcb7"
      },
      "execution_count": null,
      "outputs": [
        {
          "output_type": "stream",
          "name": "stdout",
          "text": [
            "10.0\n",
            "2.0\n",
            "24.0\n",
            "1.5\n",
            "2.0\n"
          ]
        }
      ]
    },
    {
      "cell_type": "code",
      "source": [
        "#Conversion of one unit to another (such as hours to minutes, miles to km and etc)\n",
        "hour=int(input('enter hour : '))\n",
        "min=hour*60\n",
        "print(min)\n",
        "sec=min*60\n",
        "print(sec)"
      ],
      "metadata": {
        "id": "cWD_s6ien7d-",
        "colab": {
          "base_uri": "https://localhost:8080/"
        },
        "outputId": "d201c5e9-328e-465f-e3e0-3cadbf86b63a"
      },
      "execution_count": null,
      "outputs": [
        {
          "output_type": "stream",
          "name": "stdout",
          "text": [
            "enter hour : 2\n",
            "120\n",
            "7200\n"
          ]
        }
      ]
    },
    {
      "cell_type": "code",
      "source": [
        "#Usage of mathematical functions in python like math.ceil, floor, fabs, fmod, trunc,pow, sqrt etc.\n",
        "import math\n",
        "print(math.ceil(4.1))\n",
        "print(math.floor(4.7))\n",
        "print(math.fabs(-4.6))\n",
        "print(math.fmod(20,3))\n",
        "print(math.trunc(4.7))\n",
        "print(math.pow(5,2))\n",
        "print(math.sqrt(4))"
      ],
      "metadata": {
        "id": "Y8dGpuzyn-9H",
        "colab": {
          "base_uri": "https://localhost:8080/"
        },
        "outputId": "4ced0248-877a-44bd-a091-239c126bfed1"
      },
      "execution_count": null,
      "outputs": [
        {
          "output_type": "stream",
          "name": "stdout",
          "text": [
            "5\n",
            "4\n",
            "4.6\n",
            "2.0\n",
            "4\n",
            "25.0\n",
            "2.0\n"
          ]
        }
      ]
    },
    {
      "cell_type": "code",
      "source": [
        "#Building a mathematical calculator that can perform operations according to user input.Use decision making statement.\n",
        "a=int(input(\"enter a number 1 : \"))\n",
        "b=int(input(\"enter number 2 : \")) \n",
        "c=str(input(\"enter mathemaical function : \"))\n",
        "if c=='+':\n",
        "    print(a+b)\n",
        "elif c=='-':\n",
        "    print(a-b)\n",
        "elif c=='*':\n",
        "    print(a*b)\n",
        "else:   \n",
        "    print(a/b)"
      ],
      "metadata": {
        "id": "dQja9Sk9oD_e",
        "colab": {
          "base_uri": "https://localhost:8080/"
        },
        "outputId": "d787158b-1944-4720-a4cb-b1584a582875"
      },
      "execution_count": null,
      "outputs": [
        {
          "output_type": "stream",
          "name": "stdout",
          "text": [
            "enter a number 1 : 4\n",
            "enter number 2 : 3\n",
            "enter mathemaical function : +\n",
            "7\n"
          ]
        }
      ]
    },
    {
      "cell_type": "code",
      "source": [
        "#Accepting 5 different subject marks from user and displaying the grade of the student.\n",
        "a=int(input(\"enter marks of sub1 : \"))\n",
        "b=int(input(\"enter marks of sub2 : \"))\n",
        "c=int(input(\"enter marks of sub3 : \"))\n",
        "d=int(input(\"enter marks of sub4 : \"))\n",
        "e=int(input(\"enter marks of sub5 : \"))\n",
        "f=(a+b+c+d+e)/5\n",
        "print(f)\n",
        "if f>=90:\n",
        "    print(\"a grade\")\n",
        "elif f>=80:\n",
        "    print(\"b grade\")\n",
        "elif f>=70:\n",
        "    print(\"c grade\")\n",
        "elif f>=60:\n",
        "    print(\"d grade\")\n",
        "elif f>=50:\n",
        "    print(\"e grade\")\n",
        "else:\n",
        "    print(\"fail\")"
      ],
      "metadata": {
        "id": "nS5yeLeRoHS3",
        "colab": {
          "base_uri": "https://localhost:8080/"
        },
        "outputId": "b503c4bb-2d05-4a6c-b444-a6574c923c49"
      },
      "execution_count": null,
      "outputs": [
        {
          "output_type": "stream",
          "name": "stdout",
          "text": [
            "enter marks of sub1 : 40\n",
            "enter marks of sub2 : 50\n",
            "enter marks of sub3 : 70\n",
            "enter marks of sub4 : 80\n",
            "enter marks of sub5 : 90\n",
            "66.0\n",
            "d grade\n"
          ]
        }
      ]
    },
    {
      "cell_type": "code",
      "source": [
        "#Printing all even numbers, odd numbers, count of even numbers, count of odd numbers within a given range\n",
        "r=10\n",
        "print(\"even numbers : \")\n",
        "c=0\n",
        "for i in range(1,r+1):\n",
        "  if(i%2==0):\n",
        "    c+=1\n",
        "    print(i)\n",
        "print(\"even numbers count : \",c)\n",
        "print(\"odd numbers : \")\n",
        "o=0\n",
        "for i in range(1,r+1):\n",
        "  if(i%2!=0):\n",
        "    o+=1\n",
        "    print(i)\n",
        "print(\"odd numbers count : \",o)        "
      ],
      "metadata": {
        "id": "nT-GXrYroK-W",
        "colab": {
          "base_uri": "https://localhost:8080/"
        },
        "outputId": "3bf25f12-6a55-4f94-fdc7-768be8e54ce7"
      },
      "execution_count": null,
      "outputs": [
        {
          "output_type": "stream",
          "name": "stdout",
          "text": [
            "even numbers : \n",
            "2\n",
            "4\n",
            "6\n",
            "8\n",
            "10\n",
            "even numbers count :  5\n",
            "odd numbers : \n",
            "1\n",
            "3\n",
            "5\n",
            "7\n",
            "9\n",
            "odd numbers count :  5\n"
          ]
        }
      ]
    },
    {
      "cell_type": "code",
      "source": [
        "#Compute the factorial of a given number\n",
        "n=4\n",
        "fac=1\n",
        "for i in range(1,n+1):\n",
        "  fac=fac*i\n",
        "print(fac)  "
      ],
      "metadata": {
        "id": "FvDf5orJMK6i",
        "colab": {
          "base_uri": "https://localhost:8080/"
        },
        "outputId": "474c4ef4-902c-468a-835e-296d7f79fd24"
      },
      "execution_count": null,
      "outputs": [
        {
          "output_type": "stream",
          "name": "stdout",
          "text": [
            "24\n"
          ]
        }
      ]
    },
    {
      "cell_type": "code",
      "source": [
        "#Compute GCD of two given numbers\n",
        "a=3\n",
        "b=5\n",
        "k=a if(a<b) else b\n",
        "while True:\n",
        "    if(a%k==0 and b%k==0):\n",
        "      break\n",
        "    k-=1\n",
        "print(k)"
      ],
      "metadata": {
        "colab": {
          "base_uri": "https://localhost:8080/"
        },
        "id": "o6fqboIzT5M7",
        "outputId": "40a6c20a-0a2b-4d45-fc6d-7ce448a726f8"
      },
      "execution_count": null,
      "outputs": [
        {
          "output_type": "stream",
          "name": "stdout",
          "text": [
            "1\n"
          ]
        }
      ]
    },
    {
      "cell_type": "code",
      "source": [
        "#Generate Fibonacci series up to N numbers\n",
        "n=10\n",
        "a=0\n",
        "b=1\n",
        "print(a,end=' ')\n",
        "print(b,end=' ')\n",
        "for i in range(1,n-1):\n",
        "  c=a+b\n",
        "  print(c,end=' ')\n",
        "  a=b\n",
        "  b=c"
      ],
      "metadata": {
        "colab": {
          "base_uri": "https://localhost:8080/"
        },
        "id": "XiTR_XaXUsMl",
        "outputId": "6a14aa81-2178-46be-e67c-65e098fcf95c"
      },
      "execution_count": null,
      "outputs": [
        {
          "output_type": "stream",
          "name": "stdout",
          "text": [
            "0 1 1 2 3 5 8 13 21 34 "
          ]
        }
      ]
    },
    {
      "cell_type": "code",
      "source": [
        "#Check whether the given input is palindrome\n",
        "a=112\n",
        "b=a\n",
        "f=0\n",
        "while a>0:\n",
        "  d=a%10\n",
        "  f=f*10+d\n",
        "  a=a//10\n",
        "if(f==b):\n",
        "  print(\"palindrome\")\n",
        "else:\n",
        "  print(\"not palindrome\")"
      ],
      "metadata": {
        "colab": {
          "base_uri": "https://localhost:8080/"
        },
        "id": "bHawccIoWC24",
        "outputId": "3b2bb205-322d-458b-c1e5-fa930265c99e"
      },
      "execution_count": null,
      "outputs": [
        {
          "output_type": "stream",
          "name": "stdout",
          "text": [
            "not palindrome\n"
          ]
        }
      ]
    },
    {
      "cell_type": "code",
      "source": [
        "#Check whether the given input is strong\n",
        "a=145\n",
        "b=a\n",
        "s=0\n",
        "while a>0:\n",
        "  d=a%10\n",
        "  x=1\n",
        "  for i in range(1,d+1):\n",
        "    x=x*i\n",
        "  s=s+x\n",
        "  a=a//10\n",
        "if(s==b):\n",
        "  print(\"strong number\")\n",
        "else:\n",
        "  print(\"not strong number\")  "
      ],
      "metadata": {
        "colab": {
          "base_uri": "https://localhost:8080/"
        },
        "id": "GmeJEHTuWxzw",
        "outputId": "e6a3653e-72eb-44a1-b89e-a16b6c5647fd"
      },
      "execution_count": null,
      "outputs": [
        {
          "output_type": "stream",
          "name": "stdout",
          "text": [
            "strong number\n"
          ]
        }
      ]
    },
    {
      "cell_type": "code",
      "source": [
        "#Check whether the given input is perfect\n",
        "a=6\n",
        "s=0\n",
        "for i in range(1,a):\n",
        "  if(a%i==0):\n",
        "    s=s+i\n",
        "if (s==a):\n",
        "  print(\"perfect number\")\n",
        "else:\n",
        "  print(\"not perfect number\")      "
      ],
      "metadata": {
        "colab": {
          "base_uri": "https://localhost:8080/"
        },
        "id": "nAvtFo83XFtC",
        "outputId": "6a43e248-f816-4d21-e742-d6da7ad0b199"
      },
      "execution_count": null,
      "outputs": [
        {
          "output_type": "stream",
          "name": "stdout",
          "text": [
            "perfect number\n"
          ]
        }
      ]
    },
    {
      "cell_type": "code",
      "source": [
        "#Compute compound interest using loop for a certain principal and interest amount\n",
        "p=15000\n",
        "r=3\n",
        "t=7\n",
        "c=p*pow(1+r/100,t)-p\n",
        "print(\"compound interest : \",c)"
      ],
      "metadata": {
        "colab": {
          "base_uri": "https://localhost:8080/"
        },
        "id": "eXj6X9ZlYXK_",
        "outputId": "18834553-2744-4a0f-d820-b3d0a2d6d3eb"
      },
      "execution_count": null,
      "outputs": [
        {
          "output_type": "stream",
          "name": "stdout",
          "text": [
            "compound interest :  3448.107981373054\n"
          ]
        }
      ]
    }
  ]
}
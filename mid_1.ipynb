{
  "nbformat": 4,
  "nbformat_minor": 0,
  "metadata": {
    "colab": {
      "name": "mid 1.ipynb",
      "provenance": [],
      "authorship_tag": "ABX9TyM2UzFjf1f4RGCjQHUHKgr3",
      "include_colab_link": true
    },
    "kernelspec": {
      "name": "python3",
      "display_name": "Python 3"
    },
    "language_info": {
      "name": "python"
    }
  },
  "cells": [
    {
      "cell_type": "markdown",
      "metadata": {
        "id": "view-in-github",
        "colab_type": "text"
      },
      "source": [
        "<a href=\"https://colab.research.google.com/github/abhinav371/Python/blob/Module-2/mid_1.ipynb\" target=\"_parent\"><img src=\"https://colab.research.google.com/assets/colab-badge.svg\" alt=\"Open In Colab\"/></a>"
      ]
    },
    {
      "cell_type": "code",
      "execution_count": null,
      "metadata": {
        "colab": {
          "base_uri": "https://localhost:8080/"
        },
        "id": "KcpRwckRaNH7",
        "outputId": "37f5bd4f-7fb3-4425-d285-fdf660a8f198"
      },
      "outputs": [
        {
          "name": "stdout",
          "output_type": "stream",
          "text": [
            "min : 25\n",
            "max : 50\n"
          ]
        }
      ],
      "source": [
        "#write a program to print prime numbers in given range by using function(25-50)\n",
        "a=int(input('min : '))\n",
        "b=int(input('max : '))\n",
        "for n in range (a,b+1):\n",
        "  if n>1:\n",
        "   for i in range(2,n):\n",
        "     if(n%i)==0:\n",
        "       break\n",
        "  else:\n",
        "    print(n)"
      ]
    },
    {
      "cell_type": "code",
      "source": [
        "#write a program to read any month number in integer and display days for that month\n",
        "def month(a):\n",
        "  if a==1 or a==3 or a==5 or a==7 or a==8 or a==10 or a==12:\n",
        "    print('31 days')\n",
        "  elif a==4 or a==6 or a==9 or a==11:\n",
        "    print('30 days')\n",
        "  else: \n",
        "    print('28 days')\n",
        "b=int(input('month number : '))\n",
        "month(b)"
      ],
      "metadata": {
        "colab": {
          "base_uri": "https://localhost:8080/"
        },
        "id": "QHx9AbpMahxI",
        "outputId": "6e12542d-4004-44e3-bb0d-8e37ecb9cfc7"
      },
      "execution_count": null,
      "outputs": [
        {
          "output_type": "stream",
          "name": "stdout",
          "text": [
            "month number : 4\n",
            "30 days\n"
          ]
        }
      ]
    },
    {
      "cell_type": "code",
      "source": [
        "#write a python program to print even length words in a string\n",
        "a = input(\"enter : \")\n",
        "a=a.split(' ')\n",
        "for i in a:\n",
        "  if len(i)%2==0:\n",
        "    print(i)"
      ],
      "metadata": {
        "colab": {
          "base_uri": "https://localhost:8080/"
        },
        "id": "fCO2Q-fRa4Pu",
        "outputId": "dc0792db-0804-4010-907a-3caa936fa75d"
      },
      "execution_count": null,
      "outputs": [
        {
          "output_type": "stream",
          "name": "stdout",
          "text": [
            "enter : thank you very much\n",
            "very\n",
            "much\n"
          ]
        }
      ]
    },
    {
      "cell_type": "code",
      "source": [
        "#write a python program to capitalize the first and last letter of each word\n",
        "a=str(input('enter : '))\n",
        "b=a.split(' ')\n",
        "for i in b:\n",
        "  v=i.capitalize()\n",
        "  e=i[-1].capitalize()\n",
        "  z=v[0:-1]+e\n",
        "  print(z,end=' ')"
      ],
      "metadata": {
        "colab": {
          "base_uri": "https://localhost:8080/"
        },
        "id": "0uBVUp9ka4W3",
        "outputId": "fe804fc0-bffc-4fe3-8ed5-98e373461765"
      },
      "execution_count": null,
      "outputs": [
        {
          "output_type": "stream",
          "name": "stdout",
          "text": [
            "enter : thank you\n",
            "ThanK YoU "
          ]
        }
      ]
    },
    {
      "cell_type": "code",
      "source": [
        "#write a program to read a string from user and display first character of each word with capital letter\n",
        "a=input('enter : ')\n",
        "a=a.split(' ')\n",
        "for i in a:\n",
        "  v=i.capitalize()\n",
        "  print(v,end=' ')"
      ],
      "metadata": {
        "colab": {
          "base_uri": "https://localhost:8080/"
        },
        "id": "GCJbJjE5bx1g",
        "outputId": "639ad81c-1fe7-46d3-a29d-51e4c4a1f870"
      },
      "execution_count": null,
      "outputs": [
        {
          "output_type": "stream",
          "name": "stdout",
          "text": [
            "enter : i am good boy\n",
            "I Am Good Boy "
          ]
        }
      ]
    },
    {
      "cell_type": "code",
      "source": [
        "#write a python program to convert a list of multiple integers to single integer\n",
        "a = [\"69\", \"78\", \"-90\"]\n",
        "b = [eval(x) for x in a]\n",
        "print(b)"
      ],
      "metadata": {
        "id": "8rB0oEfEcOa-",
        "colab": {
          "base_uri": "https://localhost:8080/"
        },
        "outputId": "c216cce0-5e1a-4fbd-e08c-454a4b176d5a"
      },
      "execution_count": null,
      "outputs": [
        {
          "output_type": "stream",
          "name": "stdout",
          "text": [
            "[69, 78, -90]\n"
          ]
        }
      ]
    },
    {
      "cell_type": "code",
      "source": [
        "#write a python program to find power of a number\n",
        "import math\n",
        "a=int(input('num 1 : '))\n",
        "b=int(input('num 2 : '))\n",
        "c=math.pow(a,b)\n",
        "print(c)"
      ],
      "metadata": {
        "id": "YQG47D6NnxUn",
        "colab": {
          "base_uri": "https://localhost:8080/"
        },
        "outputId": "189cb63b-8df7-49b2-d75f-5fee0ef2b5fa"
      },
      "execution_count": null,
      "outputs": [
        {
          "output_type": "stream",
          "name": "stdout",
          "text": [
            "num 1 : 4\n",
            "num 2 : 6\n",
            "4096.0\n"
          ]
        }
      ]
    },
    {
      "cell_type": "code",
      "source": [
        "#write a program to sort tuples by total digits \n",
        "l=[(3,4,6,723),(1,2),(134,234,34)]\n",
        "l.sort()\n",
        "print(l)"
      ],
      "metadata": {
        "id": "eoY-DkDoJ-ec",
        "colab": {
          "base_uri": "https://localhost:8080/"
        },
        "outputId": "aee95b4f-ad9c-4a5c-cf41-e8059e7a8f47"
      },
      "execution_count": null,
      "outputs": [
        {
          "output_type": "stream",
          "name": "stdout",
          "text": [
            "[(1, 2), (3, 4, 6, 723), (134, 234, 34)]\n"
          ]
        }
      ]
    },
    {
      "cell_type": "code",
      "source": [
        "#take 5 subjects marks from the user and display the grade of the student [if avg is 90-100--o  80-89--a+ 70-79--a 60-69--b+ 40-59--c >40--f]\n",
        "a=int(input('subjects : '))\n",
        "s=0\n",
        "for i in range (1,a+1):\n",
        "  b=int(input('enter marks : '))\n",
        "  s=s+b\n",
        "avg =s/a\n",
        "print(avg)\n",
        "if avg>=90:\n",
        "  print('o grade')\n",
        "elif avg>=80:\n",
        "  print('a+ grade')\n",
        "elif avg>=70:\n",
        "  print('a grade')\n",
        "elif avg>=60:\n",
        "  print('b+ grade')\n",
        "elif avg>=40:\n",
        "  print('c grade')\n",
        "else:\n",
        "  print('fail')"
      ],
      "metadata": {
        "colab": {
          "base_uri": "https://localhost:8080/"
        },
        "id": "5mvB0ZmXKl67",
        "outputId": "8e0a5899-c544-4900-c587-380505bd7559"
      },
      "execution_count": null,
      "outputs": [
        {
          "output_type": "stream",
          "name": "stdout",
          "text": [
            "subjects : 3\n",
            "enter marks : 90\n",
            "enter marks : 90\n",
            "enter marks : 99\n",
            "93.0\n",
            "o grade\n"
          ]
        }
      ]
    },
    {
      "cell_type": "code",
      "source": [
        "#write a python program that prints 1 if all the three given number are in ascending order otherwise print 0\n",
        "a=int(input(\"enter a :\"))\n",
        "b=int(input(\"enter b :\"))\n",
        "if a < b :\n",
        "  for i in range (a,b+1):\n",
        "    print(i,end = \" \")\n",
        "  if a > b :\n",
        "    while a>=b :\n",
        "      print(a, end = \" \")\n",
        "  a-=1"
      ],
      "metadata": {
        "id": "udk-0erNLVOd",
        "colab": {
          "base_uri": "https://localhost:8080/"
        },
        "outputId": "ca85f9c3-4fa7-45bd-f5a9-8d8ad484f21f"
      },
      "execution_count": null,
      "outputs": [
        {
          "output_type": "stream",
          "name": "stdout",
          "text": [
            "enter a :8\n",
            "enter b :9\n",
            "enter c : 10\n",
            "8 9 "
          ]
        }
      ]
    },
    {
      "cell_type": "code",
      "source": [
        "#check given number is perfect number or not\n",
        "a=int(input('num : '))\n",
        "s=0\n",
        "for i in range(1,a):\n",
        "  if(a%i==0):\n",
        "    s=s+i\n",
        "if (s==a):\n",
        "  print('perfect number')\n",
        "else:\n",
        "  print('not a perfect number')"
      ],
      "metadata": {
        "id": "KXtuy_4ILqja",
        "colab": {
          "base_uri": "https://localhost:8080/"
        },
        "outputId": "47f04678-1dd6-4d59-c1d2-7e260ac8e727"
      },
      "execution_count": null,
      "outputs": [
        {
          "output_type": "stream",
          "name": "stdout",
          "text": [
            "num : 6\n",
            "perfect number\n"
          ]
        }
      ]
    },
    {
      "cell_type": "code",
      "source": [
        "#check given string is palindrome or not\n",
        "s=input('word : ')\n",
        "a=isPalindrome(s) \n",
        "if a:\n",
        "    print('Yes')\n",
        "else:\n",
        "    print('No')"
      ],
      "metadata": {
        "id": "X6ShWv9IMCmi",
        "colab": {
          "base_uri": "https://localhost:8080/",
          "height": 252
        },
        "outputId": "b389d222-bc0c-4ce2-af9b-3195b6c3c723"
      },
      "execution_count": null,
      "outputs": [
        {
          "name": "stdout",
          "output_type": "stream",
          "text": [
            "word : 121\n"
          ]
        },
        {
          "output_type": "error",
          "ename": "NameError",
          "evalue": "ignored",
          "traceback": [
            "\u001b[0;31m---------------------------------------------------------------------------\u001b[0m",
            "\u001b[0;31mNameError\u001b[0m                                 Traceback (most recent call last)",
            "\u001b[0;32m<ipython-input-7-c5becc2d6c7e>\u001b[0m in \u001b[0;36m<module>\u001b[0;34m()\u001b[0m\n\u001b[1;32m      1\u001b[0m \u001b[0;31m#check given string is palindrome or not\u001b[0m\u001b[0;34m\u001b[0m\u001b[0;34m\u001b[0m\u001b[0;34m\u001b[0m\u001b[0m\n\u001b[1;32m      2\u001b[0m \u001b[0ms\u001b[0m\u001b[0;34m=\u001b[0m\u001b[0minput\u001b[0m\u001b[0;34m(\u001b[0m\u001b[0;34m'word : '\u001b[0m\u001b[0;34m)\u001b[0m\u001b[0;34m\u001b[0m\u001b[0;34m\u001b[0m\u001b[0m\n\u001b[0;32m----> 3\u001b[0;31m \u001b[0ma\u001b[0m\u001b[0;34m==\u001b[0m\u001b[0misPalindrome\u001b[0m\u001b[0;34m(\u001b[0m\u001b[0ms\u001b[0m\u001b[0;34m)\u001b[0m\u001b[0;34m\u001b[0m\u001b[0;34m\u001b[0m\u001b[0m\n\u001b[0m\u001b[1;32m      4\u001b[0m \u001b[0;32mif\u001b[0m \u001b[0ma\u001b[0m\u001b[0;34m:\u001b[0m\u001b[0;34m\u001b[0m\u001b[0;34m\u001b[0m\u001b[0m\n\u001b[1;32m      5\u001b[0m     \u001b[0mprint\u001b[0m\u001b[0;34m(\u001b[0m\u001b[0;34m'Yes'\u001b[0m\u001b[0;34m)\u001b[0m\u001b[0;34m\u001b[0m\u001b[0;34m\u001b[0m\u001b[0m\n",
            "\u001b[0;31mNameError\u001b[0m: name 'isPalindrome' is not defined"
          ]
        }
      ]
    },
    {
      "cell_type": "code",
      "source": [
        "#find the gcd of two numbers \n",
        "import math\n",
        "a=int(input('num 1 : '))\n",
        "b=int(input('num 2 : '))\n",
        "c=math.gcd(a,b)\n",
        "print(c)"
      ],
      "metadata": {
        "id": "13T3vTiVMd3D",
        "colab": {
          "base_uri": "https://localhost:8080/"
        },
        "outputId": "ce742dfb-9caf-439e-b43a-1bda478d52f6"
      },
      "execution_count": null,
      "outputs": [
        {
          "output_type": "stream",
          "name": "stdout",
          "text": [
            "num 1 : 7\n",
            "num 2 : 9\n",
            "1\n"
          ]
        }
      ]
    },
    {
      "cell_type": "code",
      "source": [
        "#print sum of even digits in a given number\n",
        "a=int(input(\"Enter a number \"))\n",
        "s=0\n",
        "for i in range (a):\n",
        "  r=a%10\n",
        "if r%2==0 :\n",
        "  s+=r\n",
        "a=a//10\n",
        "print(s)"
      ],
      "metadata": {
        "id": "CfVHojlTMu1k",
        "colab": {
          "base_uri": "https://localhost:8080/"
        },
        "outputId": "e73161a6-5422-42a3-ba6c-e6b024b83c84"
      },
      "execution_count": null,
      "outputs": [
        {
          "output_type": "stream",
          "name": "stdout",
          "text": [
            "Enter a number 124\n",
            "4\n"
          ]
        }
      ]
    },
    {
      "cell_type": "code",
      "source": [
        "#calculate the sum of squares of digits of a number given by a user\n",
        "a=int(input(\"Enter a number \"))\n",
        "s=0\n",
        "for i in range (a):\n",
        "  r=a%10\n",
        "  r=r*r\n",
        "  s+=r\n",
        "a=a//10\n",
        "print(s)\n"
      ],
      "metadata": {
        "id": "NBni2fkjND87",
        "colab": {
          "base_uri": "https://localhost:8080/"
        },
        "outputId": "0842310c-7de9-4d26-9659-23d246e7057a"
      },
      "execution_count": null,
      "outputs": [
        {
          "output_type": "stream",
          "name": "stdout",
          "text": [
            "Enter a number 143\n",
            "1287\n"
          ]
        }
      ]
    },
    {
      "cell_type": "code",
      "source": [
        "#given a string s,s='abcdefcba' how many times the ith character   \n",
        "a=input(\"Enter a word \")\n",
        "s=0\n",
        "l=len(a)//2\n",
        "for i in range(l):\n",
        "  x=a[i]\n",
        "  y=a[-(i+1)]\n",
        "if x==y :\n",
        "  s+=1\n",
        "print(s)"
      ],
      "metadata": {
        "id": "1_CapgQGNctL",
        "colab": {
          "base_uri": "https://localhost:8080/"
        },
        "outputId": "4ce1f45d-bba2-454f-9c7a-2da6b0178ba0"
      },
      "execution_count": null,
      "outputs": [
        {
          "output_type": "stream",
          "name": "stdout",
          "text": [
            "Enter a word aba\n",
            "1\n"
          ]
        }
      ]
    },
    {
      "cell_type": "code",
      "source": [
        "#given an integer n,return a list containing 1223334444... and finally n repeated n times      \n",
        "n=int(input(\"enter your number :\"))\n",
        "a=[]\n",
        "for i in range (n+1):\n",
        "  for j in range (i):\n",
        "    a.append(i)\n",
        "print(a)"
      ],
      "metadata": {
        "id": "Rc0QUBV_OPO7",
        "colab": {
          "base_uri": "https://localhost:8080/"
        },
        "outputId": "02e6c5c1-1746-409b-c4f0-d98defd99268"
      },
      "execution_count": null,
      "outputs": [
        {
          "output_type": "stream",
          "name": "stdout",
          "text": [
            "enter your number :5\n",
            "[1, 2, 2, 3, 3, 3, 4, 4, 4, 4, 5, 5, 5, 5, 5]\n"
          ]
        }
      ]
    },
    {
      "cell_type": "code",
      "source": [
        "#print no.of vowels and consonants in a given strings   \n",
        "a=input(\"Enter a word \")\n",
        "a=a.lower()\n",
        "c,v=0,0\n",
        "if a.isalpha() :\n",
        "  for i in range (len(a)):\n",
        "    if a[i]==\"a\" or a[i]==\"e\" or a[i]==\"i\" or a[i]==\"o\" or a[i]==\"u\" :\n",
        "      v+=1\n",
        "    else :\n",
        "      c+=1\n",
        "      print(f\"vowels are {v} and consonants are {c}\")"
      ],
      "metadata": {
        "id": "KejeDtVqPDf5",
        "colab": {
          "base_uri": "https://localhost:8080/"
        },
        "outputId": "fd25c583-db4e-4e30-f003-4b1d0d31bb26"
      },
      "execution_count": null,
      "outputs": [
        {
          "output_type": "stream",
          "name": "stdout",
          "text": [
            "Enter a word gitam\n",
            "vowels are 0 and consonants are 1\n",
            "vowels are 1 and consonants are 2\n",
            "vowels are 2 and consonants are 3\n"
          ]
        }
      ]
    },
    {
      "cell_type": "code",
      "source": [
        "#given 2 integers a and b if a is less than b then print all numbers in between ascending order else print in descending order\n",
        "a= int(input(\"enter a :\"))\n",
        "b= int(input(\"enter b :\"))\n",
        "if a < b :\n",
        "  for i in range (a,b+1):\n",
        "    print(i,end = \" \")\n",
        "if a > b :\n",
        "  while a>=b :\n",
        "    print(a, end = \" \")\n",
        "    a-=1"
      ],
      "metadata": {
        "id": "RfeaTyoUPLts",
        "colab": {
          "base_uri": "https://localhost:8080/"
        },
        "outputId": "293f4507-2c19-4524-cab1-59fc5e6363c2"
      },
      "execution_count": null,
      "outputs": [
        {
          "output_type": "stream",
          "name": "stdout",
          "text": [
            "enter a :3\n",
            "enter b :4\n",
            "3 4 "
          ]
        }
      ]
    },
    {
      "cell_type": "code",
      "source": [
        "#program to print biggest value among 3 numbers\n",
        "a=int(input('num 1 : '))\n",
        "b=int(input('num 2 : '))\n",
        "c=int(input('num 3 : '))\n",
        "if a>b and a>c:\n",
        "  print('a is greater')\n",
        "elif b>a and b>c:\n",
        "  print('b is greater')\n",
        "else:\n",
        "  print('c is greater')"
      ],
      "metadata": {
        "colab": {
          "base_uri": "https://localhost:8080/"
        },
        "id": "ef3qxDwcP6Wk",
        "outputId": "51ccffe8-b19a-4aaa-9768-dc518259e3e0"
      },
      "execution_count": null,
      "outputs": [
        {
          "output_type": "stream",
          "name": "stdout",
          "text": [
            "num 1 : 6\n",
            "num 2 : 7\n",
            "num 3 : 5\n",
            "b is greater\n"
          ]
        }
      ]
    },
    {
      "cell_type": "code",
      "source": [
        "#there is a walking track of 3km and round trip of 6km,take input from user no.of days,no.of roundtrips he completed per day,calculate the total distance he covered in metres,if distance is less than 40000 metres give a message as need to walk more,more than 40000 give a message as good job\n",
        "d=int(input('no.of days : '))\n",
        "r=int(input('round trips : '))\n",
        "dist=r*6000\n",
        "if dist>=40000:\n",
        "  print('good job')\n",
        "else:\n",
        "  print('should walk more')"
      ],
      "metadata": {
        "colab": {
          "base_uri": "https://localhost:8080/"
        },
        "id": "k5n27fDVQ3no",
        "outputId": "8ca8a79e-c001-4d57-da86-2703931bdb30"
      },
      "execution_count": null,
      "outputs": [
        {
          "output_type": "stream",
          "name": "stdout",
          "text": [
            "no.of days : 5\n",
            "round trips : 8\n",
            "good job\n"
          ]
        }
      ]
    },
    {
      "cell_type": "code",
      "source": [
        "#give a list of student names in l and a character display the name of students whose first letter is a given as put\n",
        "n=input(\"Enter letter to be verified \")\n",
        "n=n.lower()\n",
        "r=[]\n",
        "s=0\n",
        "for i in range(int(input(\"Enter no. of students \"))):\n",
        "  a=input(f\"Enter name of student no. {i+1} \")\n",
        "  a=a.lower()\n",
        "  p=a[0]\n",
        "if n==p :\n",
        "  s+=1\n",
        "  r.append(a)\n",
        "print(f\"Total {s} students matched\\nThey are {r}\")"
      ],
      "metadata": {
        "id": "Gj_EpVM2R8DT",
        "colab": {
          "base_uri": "https://localhost:8080/"
        },
        "outputId": "546cca3d-1f84-40e4-e9f7-c7b6d0b0aad9"
      },
      "execution_count": null,
      "outputs": [
        {
          "output_type": "stream",
          "name": "stdout",
          "text": [
            "Enter letter to be verified a\n",
            "Enter no. of students 3\n",
            "Enter name of student no. 1 abhiram\n",
            "Enter name of student no. 2 abhinav\n",
            "Enter name of student no. 3 abd\n",
            "Total 1 students matched\n",
            "They are ['abd']\n"
          ]
        }
      ]
    },
    {
      "cell_type": "code",
      "source": [
        "#print a list of city names whose length is greater than given length\n",
        "a=input('string : ')\n",
        "k=int(input('value for accepting string : '))\n",
        "n=[]\n",
        "b=a.split(\" \")\n",
        "for d in b:\n",
        "\tif len(d) > k:\n",
        "\t\tn.append(d)\n",
        "print(n)"
      ],
      "metadata": {
        "id": "KSmlWhKHSZeT",
        "colab": {
          "base_uri": "https://localhost:8080/"
        },
        "outputId": "61d6dcb8-a4d8-4120-bb01-755aca92b20d"
      },
      "execution_count": null,
      "outputs": [
        {
          "output_type": "stream",
          "name": "stdout",
          "text": [
            "string : goa,jammu\n",
            "value for accepting string : 4\n",
            "['goa,jammu']\n"
          ]
        }
      ]
    }
  ]
}
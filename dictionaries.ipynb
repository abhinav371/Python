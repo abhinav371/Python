{
  "cells": [
    {
      "cell_type": "markdown",
      "metadata": {
        "id": "view-in-github",
        "colab_type": "text"
      },
      "source": [
        "<a href=\"https://colab.research.google.com/github/abhinav371/Python/blob/Module-2/dictionaries.ipynb\" target=\"_parent\"><img src=\"https://colab.research.google.com/assets/colab-badge.svg\" alt=\"Open In Colab\"/></a>"
      ]
    },
    {
      "cell_type": "code",
      "execution_count": null,
      "metadata": {
        "id": "yJQjg28USwZR",
        "colab": {
          "base_uri": "https://localhost:8080/"
        },
        "outputId": "d12d83f6-b874-4e52-f67c-825e59871c15"
      },
      "outputs": [
        {
          "output_type": "stream",
          "name": "stdout",
          "text": [
            "{'name': 'ab', 'age': 17, 'topper': False, 'marks': {25, 14, 87}, 'hobbies': {'playing', 'reading'}}\n",
            "5\n",
            "<class 'dict'>\n",
            "None\n",
            "dict_keys(['name', 'age', 'topper', 'marks', 'hobbies'])\n",
            "dict_keys(['name', 'age', 'topper', 'marks', 'hobbies', 'section'])\n",
            "dict_values(['ab', 19, False, {25, 14, 87}, {'playing', 'reading'}, 'd'])\n",
            "dict_items([('name', 'ab'), ('age', 19), ('topper', False), ('marks', {25, 14, 87}), ('hobbies', {'playing', 'reading'}), ('section', 'd')])\n",
            "yes\n",
            "{'name': 'ab', 'age': 19, 'topper': False, 'marks': {58, 90, 69}, 'hobbies': {'playing', 'reading'}, 'section': 'd'}\n",
            "{'name': 'ab', 'age': 19, 'topper': False, 'marks': {58, 90, 69}, 'hobbies': {'playing', 'reading'}, 'section': 'd', 'roll no': 130}\n",
            "{'name': 'ab', 'age': 19, 'topper': False, 'hobbies': {'playing', 'reading'}, 'section': 'd', 'roll no': 130}\n"
          ]
        }
      ],
      "source": [
        "student={\n",
        "    'name':'ab',\n",
        "    'age': 17,\n",
        "    'topper':False,\n",
        "    'marks':{14,25,87},\n",
        "    'hobbies':{'reading','playing'}\n",
        "}\n",
        "print(student)\n",
        "print(len(student))\n",
        "print(type(student))\n",
        "y=student.update({'age': 19})\n",
        "print(y)\n",
        "x=student.keys()\n",
        "print(x)\n",
        "student['section']='d'\n",
        "print(x)\n",
        "a=student.values()\n",
        "print(a)\n",
        "b=student.items()\n",
        "print(b)\n",
        "if \"name\" in student:\n",
        "  print(\"yes\")\n",
        "student['marks']={58,69,90}\n",
        "print(student)\n",
        "student['roll no']=130\n",
        "print(student)\n",
        "student.pop('marks')\n",
        "print(student)"
      ]
    },
    {
      "cell_type": "code",
      "source": [
        "placement={\n",
        "    'name':input('Name : '),\n",
        "    'age':input('age : '),\n",
        "    'cgpa':input('cgpa : '),\n",
        "    'phone number':input(\"ph no : \"),\n",
        "    'section':input(\"section : \"),\n",
        "}\n",
        "print(placement['cgpa'])\n",
        "x=placement.keys()\n",
        "print(x)\n",
        "y=placement.update({'age' : input(\"enter age : \")})\n",
        "print(y)\n",
        "print(placement.get(\"name\"))\n"
      ],
      "metadata": {
        "colab": {
          "base_uri": "https://localhost:8080/"
        },
        "id": "ZsQkPC0RgFDL",
        "outputId": "95fcb605-5b12-499f-e054-10564a2bc550"
      },
      "execution_count": null,
      "outputs": [
        {
          "output_type": "stream",
          "name": "stdout",
          "text": [
            "Name : jho\n",
            "age : 86\n",
            "cgpa : 9.9\n",
            "ph no : 8784444487\n",
            "section : a\n",
            "9.9\n",
            "dict_keys(['name', 'age', 'cgpa', 'phone number', 'section'])\n",
            "enter age : 86\n",
            "None\n",
            "jho\n"
          ]
        }
      ]
    },
    {
      "cell_type": "code",
      "source": [
        ""
      ],
      "metadata": {
        "id": "24w4ULwphWTk"
      },
      "execution_count": null,
      "outputs": []
    }
  ],
  "metadata": {
    "colab": {
      "name": "dictionaries.ipynb",
      "provenance": [],
      "authorship_tag": "ABX9TyNAZKn0c3OqwBmyWBSGP7IL",
      "include_colab_link": true
    },
    "kernelspec": {
      "display_name": "Python 3",
      "name": "python3"
    },
    "language_info": {
      "name": "python"
    }
  },
  "nbformat": 4,
  "nbformat_minor": 0
}
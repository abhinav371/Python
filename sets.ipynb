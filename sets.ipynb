{
  "nbformat": 4,
  "nbformat_minor": 0,
  "metadata": {
    "colab": {
      "name": "sets.ipynb",
      "provenance": [],
      "authorship_tag": "ABX9TyOEpvMYcpbrI6+PHlu8QQMg",
      "include_colab_link": true
    },
    "kernelspec": {
      "name": "python3",
      "display_name": "Python 3"
    },
    "language_info": {
      "name": "python"
    }
  },
  "cells": [
    {
      "cell_type": "markdown",
      "metadata": {
        "id": "view-in-github",
        "colab_type": "text"
      },
      "source": [
        "<a href=\"https://colab.research.google.com/github/abhinav371/Python/blob/Module-2/sets.ipynb\" target=\"_parent\"><img src=\"https://colab.research.google.com/assets/colab-badge.svg\" alt=\"Open In Colab\"/></a>"
      ]
    },
    {
      "cell_type": "code",
      "source": [
        "a={'orange','banana','pineapple','orange'}\n",
        "b={'kiwi','apple','blueberry'}\n",
        "print(a)\n",
        "print(type(a))\n",
        "print(len(a))\n",
        "print('a' in a)\n",
        "a.add('apple')\n",
        "print(a)\n",
        "a.update(b)\n",
        "print(a)\n",
        "a.remove('orange')\n",
        "print(a)\n",
        "a.pop()\n",
        "print(a)\n",
        "a.clear()\n",
        "print(a)"
      ],
      "metadata": {
        "colab": {
          "base_uri": "https://localhost:8080/"
        },
        "id": "lIdzPW6Z2D8r",
        "outputId": "e9409fdd-7e52-4a6b-db52-4c0bab6be99e"
      },
      "execution_count": null,
      "outputs": [
        {
          "output_type": "stream",
          "name": "stdout",
          "text": [
            "{'orange', 'banana', 'pineapple'}\n",
            "<class 'set'>\n",
            "3\n",
            "False\n",
            "{'orange', 'banana', 'apple', 'pineapple'}\n",
            "{'apple', 'blueberry', 'pineapple', 'kiwi', 'orange', 'banana'}\n",
            "{'apple', 'blueberry', 'pineapple', 'kiwi', 'banana'}\n",
            "{'blueberry', 'pineapple', 'kiwi', 'banana'}\n",
            "set()\n"
          ]
        }
      ]
    },
    {
      "cell_type": "code",
      "source": [
        "a={'orange','banana','pineapple','orange'}\n",
        "for x in a:\n",
        " print(x)"
      ],
      "metadata": {
        "id": "EK_XMskI2UQz",
        "colab": {
          "base_uri": "https://localhost:8080/"
        },
        "outputId": "db3de02e-de75-4da2-fb36-2ea89367a66d"
      },
      "execution_count": null,
      "outputs": [
        {
          "output_type": "stream",
          "name": "stdout",
          "text": [
            "orange\n",
            "banana\n",
            "pineapple\n"
          ]
        }
      ]
    },
    {
      "cell_type": "code",
      "source": [
        "set1={'lion','tiger','cat'}\n",
        "set2={1,2,3,'lion'}\n",
        "set3=set1.union(set2)\n",
        "print(set3)\n",
        "set1.update(set2)\n",
        "print(set1)"
      ],
      "metadata": {
        "colab": {
          "base_uri": "https://localhost:8080/"
        },
        "id": "ABjLt0NvUblz",
        "outputId": "b5da274e-a948-4ec7-d5c1-74fab8177b0d"
      },
      "execution_count": null,
      "outputs": [
        {
          "output_type": "stream",
          "name": "stdout",
          "text": [
            "{1, 2, 3, 'cat', 'lion', 'tiger'}\n",
            "{1, 2, 3, 'cat', 'lion', 'tiger'}\n",
            "{1, 2, 3, 'lion'}\n"
          ]
        }
      ]
    },
    {
      "cell_type": "code",
      "source": [
        "set1={'lion','tiger','cat'}\n",
        "set2={1,2,3,'lion'}\n",
        "set4=set1.intersection(set2)\n",
        "print(set4)\n",
        "set1.symmetric_difference_update(set2)\n",
        "print(set1)"
      ],
      "metadata": {
        "colab": {
          "base_uri": "https://localhost:8080/"
        },
        "id": "ZUeHfLPMVstz",
        "outputId": "1ceac5e0-efe5-484e-f7cd-c2b404e2cb39"
      },
      "execution_count": null,
      "outputs": [
        {
          "output_type": "stream",
          "name": "stdout",
          "text": [
            "{'lion'}\n",
            "{1, 2, 3, 'cat', 'tiger'}\n"
          ]
        }
      ]
    },
    {
      "cell_type": "code",
      "source": [
        "set1={'carrot','beetroot','potato','tomato'}\n",
        "set1.add('onion')\n",
        "print(set1)\n",
        "set1.clear()\n",
        "print(set1)\n",
        "x=set1.copy()\n",
        "print(x)"
      ],
      "metadata": {
        "colab": {
          "base_uri": "https://localhost:8080/"
        },
        "id": "1Im_0uaKYpOz",
        "outputId": "5169559d-ef51-4013-85fa-c2cebfde8dea"
      },
      "execution_count": null,
      "outputs": [
        {
          "output_type": "stream",
          "name": "stdout",
          "text": [
            "{'onion', 'beetroot', 'potato', 'carrot', 'tomato'}\n",
            "set()\n",
            "set()\n"
          ]
        }
      ]
    },
    {
      "cell_type": "code",
      "source": [
        "set1={'carrot','beetroot','potato','tomato'}\n",
        "x=set1.copy()\n",
        "print(x)\n",
        "set1.discard('tomato')\n",
        "print(set1)"
      ],
      "metadata": {
        "colab": {
          "base_uri": "https://localhost:8080/"
        },
        "id": "IxnJR_pGZTcz",
        "outputId": "017a7a07-2a30-4376-a1ce-9ef9c8c8dfde"
      },
      "execution_count": null,
      "outputs": [
        {
          "output_type": "stream",
          "name": "stdout",
          "text": [
            "{'potato', 'tomato', 'carrot', 'beetroot'}\n",
            "{'potato', 'carrot', 'beetroot'}\n"
          ]
        }
      ]
    },
    {
      "cell_type": "code",
      "source": [
        "set1={'carrot','beetroot','potato','tomato'}\n",
        "set2={'lion','tiger','cat','potato'}\n",
        "x=set2.difference(set1)\n",
        "print(x)\n",
        "y=set2.isdisjoint(set1)\n",
        "print(y)\n",
        "z=set2.issubset(set1)\n",
        "print(z)\n",
        "a=set2.issuperset(set2)\n",
        "print(a)"
      ],
      "metadata": {
        "colab": {
          "base_uri": "https://localhost:8080/"
        },
        "id": "CoFMd5gbZ-om",
        "outputId": "2f13aa94-e302-49ca-9524-09e0547dc87d"
      },
      "execution_count": null,
      "outputs": [
        {
          "output_type": "stream",
          "name": "stdout",
          "text": [
            "{'tiger', 'cat', 'lion'}\n",
            "False\n",
            "False\n",
            "True\n"
          ]
        }
      ]
    },
    {
      "cell_type": "code",
      "source": [
        ""
      ],
      "metadata": {
        "id": "e6SFQHs0aPRD"
      },
      "execution_count": null,
      "outputs": []
    }
  ]
}
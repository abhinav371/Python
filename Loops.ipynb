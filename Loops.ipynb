{
  "nbformat": 4,
  "nbformat_minor": 0,
  "metadata": {
    "colab": {
      "name": "Loops.ipynb",
      "provenance": [],
      "authorship_tag": "ABX9TyMHnEfZslDAtHwPG1yxbcyW",
      "include_colab_link": true
    },
    "kernelspec": {
      "name": "python3",
      "display_name": "Python 3"
    },
    "language_info": {
      "name": "python"
    }
  },
  "cells": [
    {
      "cell_type": "markdown",
      "metadata": {
        "id": "view-in-github",
        "colab_type": "text"
      },
      "source": [
        "<a href=\"https://colab.research.google.com/github/abhinav371/Python/blob/Module-1/Loops.ipynb\" target=\"_parent\"><img src=\"https://colab.research.google.com/assets/colab-badge.svg\" alt=\"Open In Colab\"/></a>"
      ]
    },
    {
      "cell_type": "code",
      "execution_count": null,
      "metadata": {
        "colab": {
          "base_uri": "https://localhost:8080/"
        },
        "id": "hJrCP57UeuF8",
        "outputId": "49522130-4f38-47aa-fda8-1046c1bfef9c"
      },
      "outputs": [
        {
          "output_type": "stream",
          "name": "stdout",
          "text": [
            "ferrari\n",
            "audi\n",
            "suzukhi\n"
          ]
        }
      ],
      "source": [
        "cars=['ferrari','bmw','audi','suzukhi']\n",
        "for x in cars:\n",
        "  if x=='bmw':\n",
        "   continue\n",
        "  print(x)"
      ]
    },
    {
      "cell_type": "code",
      "source": [
        "for x in 'rocky':\n",
        "  print(x)"
      ],
      "metadata": {
        "colab": {
          "base_uri": "https://localhost:8080/"
        },
        "id": "rqWJqwAIe_OS",
        "outputId": "9410dfa6-36cc-4b81-f897-1d114616c72f"
      },
      "execution_count": null,
      "outputs": [
        {
          "output_type": "stream",
          "name": "stdout",
          "text": [
            "r\n",
            "o\n",
            "c\n",
            "k\n",
            "y\n"
          ]
        }
      ]
    },
    {
      "cell_type": "code",
      "source": [
        "for x in range(8,13,2):\n",
        "  print(x)"
      ],
      "metadata": {
        "id": "DZM8G0DdfKTt",
        "colab": {
          "base_uri": "https://localhost:8080/"
        },
        "outputId": "d0c4459c-bf58-418b-d4b7-3f3dce953e65"
      },
      "execution_count": null,
      "outputs": [
        {
          "output_type": "stream",
          "name": "stdout",
          "text": [
            "8\n",
            "10\n",
            "12\n"
          ]
        }
      ]
    },
    {
      "cell_type": "code",
      "source": [
        "for x in range(5):\n",
        "  print(x)\n",
        "else:\n",
        "  print('finished')"
      ],
      "metadata": {
        "colab": {
          "base_uri": "https://localhost:8080/"
        },
        "id": "aCB0Sd_Y1bVs",
        "outputId": "38b5c8a4-8d5a-4829-8f79-5b63b6554aa7"
      },
      "execution_count": null,
      "outputs": [
        {
          "output_type": "stream",
          "name": "stdout",
          "text": [
            "0\n",
            "1\n",
            "2\n",
            "3\n",
            "4\n",
            "finished\n"
          ]
        }
      ]
    },
    {
      "cell_type": "code",
      "source": [
        "for x in range(9):\n",
        "  if x==24:break\n",
        "  print(x)\n",
        "else:\n",
        "  print('finish')\n"
      ],
      "metadata": {
        "colab": {
          "base_uri": "https://localhost:8080/"
        },
        "id": "-h40w20q1_OR",
        "outputId": "513430df-e208-4a54-c434-cd1f8ffa8f8b"
      },
      "execution_count": null,
      "outputs": [
        {
          "output_type": "stream",
          "name": "stdout",
          "text": [
            "0\n",
            "1\n",
            "2\n",
            "3\n",
            "4\n",
            "5\n",
            "6\n",
            "7\n",
            "8\n",
            "finish\n"
          ]
        }
      ]
    },
    {
      "cell_type": "code",
      "source": [
        "km=int(input('km : '))\n",
        "m=1000*km\n",
        "print('metre :',m)\n",
        "m=int(input('m : '))\n",
        "km=m/1000\n",
        "print('km : ',km)"
      ],
      "metadata": {
        "id": "LvcE0gLZ2Hp3",
        "colab": {
          "base_uri": "https://localhost:8080/"
        },
        "outputId": "4ce21630-d7b5-411b-8f82-6d6f6f7995b6"
      },
      "execution_count": null,
      "outputs": [
        {
          "output_type": "stream",
          "name": "stdout",
          "text": [
            "km : 9\n",
            "metre : 9000\n",
            "m : 8\n",
            "km :  0.008\n"
          ]
        }
      ]
    },
    {
      "cell_type": "code",
      "source": [
        "import math\n",
        "a=math.factorial(4)\n",
        "print(a)\n",
        "b=math.gcd(2,6)\n",
        "print(b)"
      ],
      "metadata": {
        "colab": {
          "base_uri": "https://localhost:8080/"
        },
        "id": "WXb6cUOX_lHQ",
        "outputId": "3601ea9e-50c4-4462-e4c7-5a15e6f38ef2"
      },
      "execution_count": null,
      "outputs": [
        {
          "output_type": "stream",
          "name": "stdout",
          "text": [
            "24\n",
            "2\n"
          ]
        }
      ]
    },
    {
      "cell_type": "code",
      "source": [
        "n=6\n",
        "fac=1\n",
        "for i in range(1,n+1):\n",
        "  fac=fac*i\n",
        "print(fac)"
      ],
      "metadata": {
        "colab": {
          "base_uri": "https://localhost:8080/"
        },
        "id": "C2VQuzw7DLlN",
        "outputId": "56c84ac9-bbe8-4ce5-f0bf-9b03ca2eaf9d"
      },
      "execution_count": null,
      "outputs": [
        {
          "output_type": "stream",
          "name": "stdout",
          "text": [
            "720\n"
          ]
        }
      ]
    },
    {
      "cell_type": "code",
      "source": [
        ""
      ],
      "metadata": {
        "id": "TrfePtZhEYCi"
      },
      "execution_count": null,
      "outputs": []
    }
  ]
}